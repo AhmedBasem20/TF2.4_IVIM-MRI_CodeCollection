{
 "cells": [
  {
   "cell_type": "code",
   "execution_count": null,
   "metadata": {},
   "outputs": [],
   "source": [
    "import numpy as np\n",
    "working_dir: str = './working_dir'\n",
    "super_ivim_dc_filename: str = 'super_ivim_dc'  # do not include .pt\n",
    "ivimnet_filename: str = 'ivimnet'  # do not include .pt\n",
    "\n",
    "bvalues = np.array([0,15,30,45,60,75,90,105,120,135,150,175,200,400,600,800])\n",
    "snr = 10\n",
    "sample_size = 100"
   ]
  },
  {
   "cell_type": "markdown",
   "metadata": {},
   "source": [
    "## Simulate"
   ]
  },
  {
   "cell_type": "markdown",
   "metadata": {},
   "source": [
    "Run training, generate .pt files"
   ]
  },
  {
   "cell_type": "code",
   "execution_count": null,
   "metadata": {},
   "outputs": [],
   "source": [
    "from super_ivim_dc.train import train\n",
    "\n",
    "train(\n",
    "    SNR=snr, \n",
    "    bvalues=bvalues, \n",
    "    super_ivim_dc=True,\n",
    "    ivimnet=True,\n",
    "    work_dir=working_dir,\n",
    "    super_ivim_dc_filename=super_ivim_dc_filename,\n",
    "    ivimnet_filename=ivimnet_filename,\n",
    "    verbose=False\n",
    ")"
   ]
  },
  {
   "cell_type": "markdown",
   "metadata": {},
   "source": [
    "Files that will be created:\n",
    "\n",
    "- **super_ivim_dc_init.json** - contains the initial values used in the training\n",
    "- **super_ivim_dc_init_NRMSE.csv** - ???\n",
    "- **super_ivim_dc_init.pt** - the pytorch model"
   ]
  },
  {
   "cell_type": "markdown",
   "metadata": {},
   "source": [
    "## Test\n",
    "\n",
    "Generate a simulated signal + ..."
   ]
  },
  {
   "cell_type": "code",
   "execution_count": null,
   "metadata": {},
   "outputs": [],
   "source": [
    "from super_ivim_dc.infer import test_infer\n",
    "\n",
    "test_infer(\n",
    "    SNR=snr,\n",
    "    bvalues=bvalues,\n",
    "    work_dir=working_dir,\n",
    "    super_ivim_dc_filename=super_ivim_dc_filename,\n",
    "    ivimnet_filename=ivimnet_filename,\n",
    "    save_figure_to=None,  # if set to None, the figure will be shown in the notebook\n",
    "    sample_size=sample_size,\n",
    ")"
   ]
  },
  {
   "cell_type": "markdown",
   "metadata": {},
   "source": [
    "## Generate simulated signal"
   ]
  },
  {
   "cell_type": "code",
   "execution_count": null,
   "metadata": {},
   "outputs": [],
   "source": [
    "from super_ivim_dc.IVIMNET import simulations\n",
    "\n",
    "IVIM_signal_noisy, Dt, f, Dp = simulations.sim_signal(\n",
    "    SNR=snr, \n",
    "    bvalues=bvalues, \n",
    "    sims=sample_size\n",
    ")\n",
    "\n",
    "Dt, f, Dp = np.squeeze(Dt), np.squeeze(f), np.squeeze(Dp)"
   ]
  },
  {
   "cell_type": "markdown",
   "metadata": {},
   "source": [
    "Run inference on the simulated signal"
   ]
  },
  {
   "cell_type": "code",
   "execution_count": null,
   "metadata": {},
   "outputs": [],
   "source": [
    "from super_ivim_dc.infer import infer_from_signal\n",
    "\n",
    "Dp_ivimnet, Dt_ivimnet, Fp_ivimnet, S0_ivimnet = infer_from_signal(\n",
    "    signal=IVIM_signal_noisy, \n",
    "    bvalues=bvalues,\n",
    "    model_path=f\"{working_dir}/{ivimnet_filename}.pt\",\n",
    ")\n",
    "\n",
    "Dp_superivimdc, Dt_superivimdc, Fp_superivimdc, S0_superivimdc = infer_from_signal(\n",
    "    signal=IVIM_signal_noisy, \n",
    "    bvalues=bvalues,\n",
    "    model_path=f\"{working_dir}/{super_ivim_dc_filename}.pt\",\n",
    ")"
   ]
  }
 ],
 "metadata": {
  "kernelspec": {
   "display_name": "super_ivim_dc",
   "language": "python",
   "name": "python3"
  },
  "language_info": {
   "codemirror_mode": {
    "name": "ipython",
    "version": 3
   },
   "file_extension": ".py",
   "mimetype": "text/x-python",
   "name": "python",
   "nbconvert_exporter": "python",
   "pygments_lexer": "ipython3",
   "version": "3.10.12"
  },
  "orig_nbformat": 4
 },
 "nbformat": 4,
 "nbformat_minor": 2
}
